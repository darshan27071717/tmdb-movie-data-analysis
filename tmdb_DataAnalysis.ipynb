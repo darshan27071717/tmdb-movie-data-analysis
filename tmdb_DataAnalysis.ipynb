{
 "cells": [
  {
   "cell_type": "code",
   "execution_count": 1,
   "id": "4a880b63-e7ff-4b69-b986-9b2cebeea0b8",
   "metadata": {},
   "outputs": [],
   "source": [
    "import pandas as pd\n",
    "import numpy as np\n",
    "import matplotlib.pyplot as plt\n",
    "import seaborn as sns"
   ]
  },
  {
   "cell_type": "code",
   "execution_count": 2,
   "id": "51249a74-bb29-45bc-9477-c068646c6e47",
   "metadata": {},
   "outputs": [
    {
     "name": "stdout",
     "output_type": "stream",
     "text": [
      "      budget                                             genres  \\\n",
      "0  237000000  [{\"id\": 28, \"name\": \"Action\"}, {\"id\": 12, \"nam...   \n",
      "1  300000000  [{\"id\": 12, \"name\": \"Adventure\"}, {\"id\": 14, \"...   \n",
      "2  245000000  [{\"id\": 28, \"name\": \"Action\"}, {\"id\": 12, \"nam...   \n",
      "3  250000000  [{\"id\": 28, \"name\": \"Action\"}, {\"id\": 80, \"nam...   \n",
      "4  260000000  [{\"id\": 28, \"name\": \"Action\"}, {\"id\": 12, \"nam...   \n",
      "\n",
      "                                       homepage      id  \\\n",
      "0                   http://www.avatarmovie.com/   19995   \n",
      "1  http://disney.go.com/disneypictures/pirates/     285   \n",
      "2   http://www.sonypictures.com/movies/spectre/  206647   \n",
      "3            http://www.thedarkknightrises.com/   49026   \n",
      "4          http://movies.disney.com/john-carter   49529   \n",
      "\n",
      "                                            keywords original_language  \\\n",
      "0  [{\"id\": 1463, \"name\": \"culture clash\"}, {\"id\":...                en   \n",
      "1  [{\"id\": 270, \"name\": \"ocean\"}, {\"id\": 726, \"na...                en   \n",
      "2  [{\"id\": 470, \"name\": \"spy\"}, {\"id\": 818, \"name...                en   \n",
      "3  [{\"id\": 849, \"name\": \"dc comics\"}, {\"id\": 853,...                en   \n",
      "4  [{\"id\": 818, \"name\": \"based on novel\"}, {\"id\":...                en   \n",
      "\n",
      "                             original_title  \\\n",
      "0                                    Avatar   \n",
      "1  Pirates of the Caribbean: At World's End   \n",
      "2                                   Spectre   \n",
      "3                     The Dark Knight Rises   \n",
      "4                               John Carter   \n",
      "\n",
      "                                            overview  popularity  \\\n",
      "0  In the 22nd century, a paraplegic Marine is di...  150.437577   \n",
      "1  Captain Barbossa, long believed to be dead, ha...  139.082615   \n",
      "2  A cryptic message from Bond’s past sends him o...  107.376788   \n",
      "3  Following the death of District Attorney Harve...  112.312950   \n",
      "4  John Carter is a war-weary, former military ca...   43.926995   \n",
      "\n",
      "                                production_companies  \\\n",
      "0  [{\"name\": \"Ingenious Film Partners\", \"id\": 289...   \n",
      "1  [{\"name\": \"Walt Disney Pictures\", \"id\": 2}, {\"...   \n",
      "2  [{\"name\": \"Columbia Pictures\", \"id\": 5}, {\"nam...   \n",
      "3  [{\"name\": \"Legendary Pictures\", \"id\": 923}, {\"...   \n",
      "4        [{\"name\": \"Walt Disney Pictures\", \"id\": 2}]   \n",
      "\n",
      "                                production_countries release_date     revenue  \\\n",
      "0  [{\"iso_3166_1\": \"US\", \"name\": \"United States o...   2009-12-10  2787965087   \n",
      "1  [{\"iso_3166_1\": \"US\", \"name\": \"United States o...   2007-05-19   961000000   \n",
      "2  [{\"iso_3166_1\": \"GB\", \"name\": \"United Kingdom\"...   2015-10-26   880674609   \n",
      "3  [{\"iso_3166_1\": \"US\", \"name\": \"United States o...   2012-07-16  1084939099   \n",
      "4  [{\"iso_3166_1\": \"US\", \"name\": \"United States o...   2012-03-07   284139100   \n",
      "\n",
      "   runtime                                   spoken_languages    status  \\\n",
      "0    162.0  [{\"iso_639_1\": \"en\", \"name\": \"English\"}, {\"iso...  Released   \n",
      "1    169.0           [{\"iso_639_1\": \"en\", \"name\": \"English\"}]  Released   \n",
      "2    148.0  [{\"iso_639_1\": \"fr\", \"name\": \"Fran\\u00e7ais\"},...  Released   \n",
      "3    165.0           [{\"iso_639_1\": \"en\", \"name\": \"English\"}]  Released   \n",
      "4    132.0           [{\"iso_639_1\": \"en\", \"name\": \"English\"}]  Released   \n",
      "\n",
      "                                          tagline  \\\n",
      "0                     Enter the World of Pandora.   \n",
      "1  At the end of the world, the adventure begins.   \n",
      "2                           A Plan No One Escapes   \n",
      "3                                 The Legend Ends   \n",
      "4            Lost in our world, found in another.   \n",
      "\n",
      "                                      title  vote_average  vote_count  \n",
      "0                                    Avatar           7.2       11800  \n",
      "1  Pirates of the Caribbean: At World's End           6.9        4500  \n",
      "2                                   Spectre           6.3        4466  \n",
      "3                     The Dark Knight Rises           7.6        9106  \n",
      "4                               John Carter           6.1        2124  \n"
     ]
    }
   ],
   "source": [
    "df=pd.read_csv(\"tmdb_5000_movies.csv\")\n",
    "print(df.head())"
   ]
  },
  {
   "cell_type": "code",
   "execution_count": 3,
   "id": "418a56c4-3795-4ae4-988f-81ca2376faf3",
   "metadata": {},
   "outputs": [
    {
     "name": "stdout",
     "output_type": "stream",
     "text": [
      "<class 'pandas.core.frame.DataFrame'>\n",
      "RangeIndex: 4803 entries, 0 to 4802\n",
      "Data columns (total 20 columns):\n",
      " #   Column                Non-Null Count  Dtype  \n",
      "---  ------                --------------  -----  \n",
      " 0   budget                4803 non-null   int64  \n",
      " 1   genres                4803 non-null   object \n",
      " 2   homepage              1712 non-null   object \n",
      " 3   id                    4803 non-null   int64  \n",
      " 4   keywords              4803 non-null   object \n",
      " 5   original_language     4803 non-null   object \n",
      " 6   original_title        4803 non-null   object \n",
      " 7   overview              4800 non-null   object \n",
      " 8   popularity            4803 non-null   float64\n",
      " 9   production_companies  4803 non-null   object \n",
      " 10  production_countries  4803 non-null   object \n",
      " 11  release_date          4802 non-null   object \n",
      " 12  revenue               4803 non-null   int64  \n",
      " 13  runtime               4801 non-null   float64\n",
      " 14  spoken_languages      4803 non-null   object \n",
      " 15  status                4803 non-null   object \n",
      " 16  tagline               3959 non-null   object \n",
      " 17  title                 4803 non-null   object \n",
      " 18  vote_average          4803 non-null   float64\n",
      " 19  vote_count            4803 non-null   int64  \n",
      "dtypes: float64(3), int64(4), object(13)\n",
      "memory usage: 750.6+ KB\n"
     ]
    }
   ],
   "source": [
    "df.info()"
   ]
  },
  {
   "cell_type": "code",
   "execution_count": 4,
   "id": "059d2c09-4fc5-40de-9e07-4096e59d747a",
   "metadata": {},
   "outputs": [
    {
     "data": {
      "text/plain": [
       "budget                   436\n",
       "genres                  1175\n",
       "homepage                1691\n",
       "id                      4803\n",
       "keywords                4222\n",
       "original_language         37\n",
       "original_title          4801\n",
       "overview                4800\n",
       "popularity              4802\n",
       "production_companies    3697\n",
       "production_countries     469\n",
       "release_date            3280\n",
       "revenue                 3297\n",
       "runtime                  156\n",
       "spoken_languages         544\n",
       "status                     3\n",
       "tagline                 3944\n",
       "title                   4800\n",
       "vote_average              71\n",
       "vote_count              1609\n",
       "dtype: int64"
      ]
     },
     "execution_count": 4,
     "metadata": {},
     "output_type": "execute_result"
    }
   ],
   "source": [
    "df.nunique()"
   ]
  },
  {
   "cell_type": "code",
   "execution_count": 6,
   "id": "a536cef9-03cb-4b09-a3c9-5e3c840467be",
   "metadata": {},
   "outputs": [
    {
     "data": {
      "text/plain": [
       "0       7.2\n",
       "1       6.9\n",
       "2       6.3\n",
       "3       7.6\n",
       "4       6.1\n",
       "       ... \n",
       "4798    6.6\n",
       "4799    5.9\n",
       "4800    7.0\n",
       "4801    5.7\n",
       "4802    6.3\n",
       "Name: vote_average, Length: 4803, dtype: float64"
      ]
     },
     "execution_count": 6,
     "metadata": {},
     "output_type": "execute_result"
    }
   ],
   "source": [
    "df['vote_average']"
   ]
  },
  {
   "cell_type": "code",
   "execution_count": 9,
   "id": "9aba5731-9b62-45e9-a240-276191757e74",
   "metadata": {},
   "outputs": [
    {
     "data": {
      "text/plain": [
       "np.int64(0)"
      ]
     },
     "execution_count": 9,
     "metadata": {},
     "output_type": "execute_result"
    }
   ],
   "source": [
    "df.duplicated().sum()"
   ]
  },
  {
   "cell_type": "code",
   "execution_count": 10,
   "id": "75020d17-a038-461f-8765-851bfcfba289",
   "metadata": {},
   "outputs": [
    {
     "data": {
      "text/plain": [
       "Index(['budget', 'genres', 'homepage', 'id', 'keywords', 'original_language',\n",
       "       'original_title', 'overview', 'popularity', 'production_companies',\n",
       "       'production_countries', 'release_date', 'revenue', 'runtime',\n",
       "       'spoken_languages', 'status', 'tagline', 'title', 'vote_average',\n",
       "       'vote_count'],\n",
       "      dtype='object')"
      ]
     },
     "execution_count": 10,
     "metadata": {},
     "output_type": "execute_result"
    }
   ],
   "source": [
    "df.columns"
   ]
  },
  {
   "cell_type": "code",
   "execution_count": 16,
   "id": "62fc1aca-f735-4711-9c17-26fd867fe014",
   "metadata": {},
   "outputs": [],
   "source": [
    "df.drop(['id','homepage','tagline','overview','keywords','production_companies','release_date','production_countries','status','title','spoken_languages','original_language'],axis=1,inplace=True)"
   ]
  },
  {
   "cell_type": "code",
   "execution_count": 17,
   "id": "e51ab18b-d145-4be9-9853-5f63a23b7cf9",
   "metadata": {},
   "outputs": [
    {
     "data": {
      "text/plain": [
       "(4803, 8)"
      ]
     },
     "execution_count": 17,
     "metadata": {},
     "output_type": "execute_result"
    }
   ],
   "source": [
    "df.shape"
   ]
  },
  {
   "cell_type": "code",
   "execution_count": 18,
   "id": "35c14e58-eb12-4473-81fb-fd09a121d460",
   "metadata": {},
   "outputs": [
    {
     "data": {
      "text/plain": [
       "budget            0\n",
       "genres            0\n",
       "original_title    0\n",
       "popularity        0\n",
       "revenue           0\n",
       "runtime           2\n",
       "vote_average      0\n",
       "vote_count        0\n",
       "dtype: int64"
      ]
     },
     "execution_count": 18,
     "metadata": {},
     "output_type": "execute_result"
    }
   ],
   "source": [
    "df.isna().sum()"
   ]
  },
  {
   "cell_type": "code",
   "execution_count": 19,
   "id": "3ee9ab0b-39c2-46b3-ae11-283e04ff2092",
   "metadata": {},
   "outputs": [],
   "source": [
    "df.dropna(inplace=True)"
   ]
  },
  {
   "cell_type": "code",
   "execution_count": 23,
   "id": "1a3e2bca-36cc-4f95-a0ad-effd7eed6d7d",
   "metadata": {},
   "outputs": [
    {
     "data": {
      "text/plain": [
       "np.int64(0)"
      ]
     },
     "execution_count": 23,
     "metadata": {},
     "output_type": "execute_result"
    }
   ],
   "source": [
    "df.isna().any().sum()"
   ]
  },
  {
   "cell_type": "code",
   "execution_count": 27,
   "id": "dca91f42-5e6e-4ea7-a3c4-11d03c479fdc",
   "metadata": {},
   "outputs": [
    {
     "name": "stdout",
     "output_type": "stream",
     "text": [
      "      budget                                             genres  \\\n",
      "0  237000000  [{\"id\": 28, \"name\": \"Action\"}, {\"id\": 12, \"nam...   \n",
      "1  300000000  [{\"id\": 12, \"name\": \"Adventure\"}, {\"id\": 14, \"...   \n",
      "2  245000000  [{\"id\": 28, \"name\": \"Action\"}, {\"id\": 12, \"nam...   \n",
      "3  250000000  [{\"id\": 28, \"name\": \"Action\"}, {\"id\": 80, \"nam...   \n",
      "4  260000000  [{\"id\": 28, \"name\": \"Action\"}, {\"id\": 12, \"nam...   \n",
      "\n",
      "                             original_title  popularity     revenue  runtime  \\\n",
      "0                                    Avatar  150.437577  2787965087    162.0   \n",
      "1  Pirates of the Caribbean: At World's End  139.082615   961000000    169.0   \n",
      "2                                   Spectre  107.376788   880674609    148.0   \n",
      "3                     The Dark Knight Rises  112.312950  1084939099    165.0   \n",
      "4                               John Carter   43.926995   284139100    132.0   \n",
      "\n",
      "   vote_average  vote_count  \n",
      "0           7.2       11800  \n",
      "1           6.9        4500  \n",
      "2           6.3        4466  \n",
      "3           7.6        9106  \n",
      "4           6.1        2124  \n"
     ]
    }
   ],
   "source": [
    "df['genres']=df['genres'].apply(lambda x:x.split(\"|\")[0])\n",
    "print(df.head())"
   ]
  },
  {
   "cell_type": "code",
   "execution_count": 29,
   "id": "b29faac9-ed49-47d8-836f-752e1db522f0",
   "metadata": {},
   "outputs": [
    {
     "name": "stdout",
     "output_type": "stream",
     "text": [
      "      budget                                             genres  \\\n",
      "0  237000000  [{\"id\": 28, \"name\": \"Action\"}, {\"id\": 12, \"nam...   \n",
      "1  300000000  [{\"id\": 12, \"name\": \"Adventure\"}, {\"id\": 14, \"...   \n",
      "2  245000000  [{\"id\": 28, \"name\": \"Action\"}, {\"id\": 12, \"nam...   \n",
      "3  250000000  [{\"id\": 28, \"name\": \"Action\"}, {\"id\": 80, \"nam...   \n",
      "4  260000000  [{\"id\": 28, \"name\": \"Action\"}, {\"id\": 12, \"nam...   \n",
      "\n",
      "                             original_title  popularity     revenue  runtime  \\\n",
      "0                                    Avatar  150.437577  2787965087    162.0   \n",
      "1  Pirates of the Caribbean: At World's End  139.082615   961000000    169.0   \n",
      "2                                   Spectre  107.376788   880674609    148.0   \n",
      "3                     The Dark Knight Rises  112.312950  1084939099    165.0   \n",
      "4                               John Carter   43.926995   284139100    132.0   \n",
      "\n",
      "   vote_average  vote_count      profit  \n",
      "0           7.2       11800  2550965087  \n",
      "1           6.9        4500   661000000  \n",
      "2           6.3        4466   635674609  \n",
      "3           7.6        9106   834939099  \n",
      "4           6.1        2124    24139100  \n"
     ]
    }
   ],
   "source": [
    "df['profit']=df.revenue-df.budget\n",
    "print(df.head())"
   ]
  },
  {
   "cell_type": "code",
   "execution_count": 81,
   "id": "6ffd5f4b-252e-4f52-9551-060295a65b6d",
   "metadata": {},
   "outputs": [],
   "source": [
    "def categorize_col (df, col, labels):\n",
    "    \n",
    "    edges = [df[col].describe()['min'],\n",
    "             df[col].describe()['25%'],\n",
    "             df[col].describe()['50%'],\n",
    "             df[col].describe()['75%'],\n",
    "             df[col].describe()['max']]\n",
    "\n",
    "    df[col] = pd.cut(df[col], edges, labels = labels, duplicates='drop')\n",
    "    return df\n"
   ]
  },
  {
   "cell_type": "code",
   "execution_count": 88,
   "id": "54eccd76-22c0-40d7-8d96-5f8fa936e95d",
   "metadata": {},
   "outputs": [
    {
     "data": {
      "text/plain": [
       "['popular', 'average', 'below avg', 'not popular', NaN]\n",
       "Categories (4, object): ['not popular' < 'below avg' < 'average' < 'popular']"
      ]
     },
     "execution_count": 88,
     "metadata": {},
     "output_type": "execute_result"
    }
   ],
   "source": [
    "labels=['not_popular','below_avg','average','popular']\n",
    "df['vote_average'].unique()"
   ]
  },
  {
   "cell_type": "code",
   "execution_count": 89,
   "id": "ef2ad8f2-4ab2-40c9-8858-3867f09dc672",
   "metadata": {},
   "outputs": [
    {
     "name": "stdout",
     "output_type": "stream",
     "text": [
      "budget            0\n",
      "genres            0\n",
      "original_title    0\n",
      "popularity        0\n",
      "revenue           0\n",
      "runtime           0\n",
      "vote_average      0\n",
      "vote_count        0\n",
      "profit            0\n",
      "dtype: int64\n"
     ]
    }
   ],
   "source": [
    "df.dropna(inplace=True)\n",
    "print(df.isnull().sum())"
   ]
  },
  {
   "cell_type": "code",
   "execution_count": 91,
   "id": "0ee7a7e7-6656-425e-8d30-670c1aca64ef",
   "metadata": {},
   "outputs": [
    {
     "data": {
      "text/plain": [
       "['high', 'low', 'average']\n",
       "Categories (3, object): ['low' < 'average' < 'high']"
      ]
     },
     "execution_count": 91,
     "metadata": {},
     "output_type": "execute_result"
    }
   ],
   "source": [
    "labels=['low','average','high']\n",
    "df['profit']=pd.cut(df['profit'],bins=3,labels=labels)\n",
    "df['profit'].unique()"
   ]
  },
  {
   "cell_type": "code",
   "execution_count": 93,
   "id": "686e84bd-cabe-4f1f-8c16-869602951189",
   "metadata": {},
   "outputs": [
    {
     "name": "stdout",
     "output_type": "stream",
     "text": [
      "      budget                                             genres  \\\n",
      "0  237000000  [{\"id\": 28, \"name\": \"Action\"}, {\"id\": 12, \"nam...   \n",
      "1  300000000  [{\"id\": 12, \"name\": \"Adventure\"}, {\"id\": 14, \"...   \n",
      "2  245000000  [{\"id\": 28, \"name\": \"Action\"}, {\"id\": 12, \"nam...   \n",
      "3  250000000  [{\"id\": 28, \"name\": \"Action\"}, {\"id\": 80, \"nam...   \n",
      "4  260000000  [{\"id\": 28, \"name\": \"Action\"}, {\"id\": 12, \"nam...   \n",
      "\n",
      "                             original_title  popularity     revenue  runtime  \\\n",
      "0                                    Avatar  150.437577  2787965087    162.0   \n",
      "1  Pirates of the Caribbean: At World's End  139.082615   961000000    169.0   \n",
      "2                                   Spectre  107.376788   880674609    148.0   \n",
      "3                     The Dark Knight Rises  112.312950  1084939099    165.0   \n",
      "4                               John Carter   43.926995   284139100    132.0   \n",
      "\n",
      "  vote_average  vote_count   profit  \n",
      "0      popular       11800     high  \n",
      "1      popular        4500      low  \n",
      "2      average        4466      low  \n",
      "3      popular        9106  average  \n",
      "4    below avg        2124      low  \n"
     ]
    }
   ],
   "source": [
    "print(df.head())"
   ]
  },
  {
   "cell_type": "code",
   "execution_count": 94,
   "id": "843241fd-96e8-4dd3-bcd0-b668833bbcd8",
   "metadata": {},
   "outputs": [
    {
     "name": "stdout",
     "output_type": "stream",
     "text": [
      "<class 'pandas.core.frame.DataFrame'>\n",
      "Index: 4739 entries, 0 to 4802\n",
      "Data columns (total 9 columns):\n",
      " #   Column          Non-Null Count  Dtype   \n",
      "---  ------          --------------  -----   \n",
      " 0   budget          4739 non-null   int64   \n",
      " 1   genres          4739 non-null   object  \n",
      " 2   original_title  4739 non-null   object  \n",
      " 3   popularity      4739 non-null   float64 \n",
      " 4   revenue         4739 non-null   int64   \n",
      " 5   runtime         4739 non-null   float64 \n",
      " 6   vote_average    4739 non-null   category\n",
      " 7   vote_count      4739 non-null   int64   \n",
      " 8   profit          4739 non-null   category\n",
      "dtypes: category(2), float64(2), int64(3), object(2)\n",
      "memory usage: 305.8+ KB\n"
     ]
    }
   ],
   "source": [
    "df.info()"
   ]
  },
  {
   "cell_type": "code",
   "execution_count": 101,
   "id": "fd1ccd61-f4cb-452c-8048-254f96650165",
   "metadata": {},
   "outputs": [
    {
     "name": "stdout",
     "output_type": "stream",
     "text": [
      "Object `revenue` not found.\n"
     ]
    }
   ],
   "source": [
    "#Q1: Do movies with high popularity acheive high revenue?\n",
    "\n",
    "median_popularity=df['popularity'].median()"
   ]
  },
  {
   "cell_type": "code",
   "execution_count": 102,
   "id": "52d051f5-02e7-4d19-987a-89ca6e821619",
   "metadata": {},
   "outputs": [
    {
     "name": "stdout",
     "output_type": "stream",
     "text": [
      "Mean revenue of less popular movies: 12834465.635021098\n",
      "Mean revenue of more popular movies: 153938433.95989868\n"
     ]
    }
   ],
   "source": [
    "less_popular = df.query('popularity <=@median_popularity')\n",
    "more_popular = df.query('popularity > @median_popularity')\n",
    "\n",
    "print(\"Mean revenue of less popular movies:\", less_popular['revenue'].mean())\n",
    "print(\"Mean revenue of more popular movies:\", more_popular['revenue'].mean())\n"
   ]
  },
  {
   "cell_type": "code",
   "execution_count": 104,
   "id": "e54722a6-a2e9-473f-9a89-5aed82d7e013",
   "metadata": {},
   "outputs": [],
   "source": [
    "import ast\n",
    "def convert_to_list(x):\n",
    "    if isinstance(x, str):\n",
    "        try:\n",
    "            return ast.literal_eval(x)\n",
    "        except:\n",
    "            return []\n",
    "    elif isinstance(x, list):\n",
    "        return x\n",
    "    else:\n",
    "        return []     "
   ]
  },
  {
   "cell_type": "code",
   "execution_count": 105,
   "id": "f53397ac-0a15-4a41-bb87-8c05ed3e3f2c",
   "metadata": {},
   "outputs": [],
   "source": [
    "df['genres']=df['genres'].apply(convert_to_list)\n",
    "df['genres']=df['genres'].apply(lambda x: [g['name'] for g in x if isinstance(g, dict)])"
   ]
  },
  {
   "cell_type": "code",
   "execution_count": 106,
   "id": "ce6e7d4f-4cf5-4a82-8a3d-ad41d03c8052",
   "metadata": {},
   "outputs": [
    {
     "data": {
      "text/plain": [
       "0       [Action, Adventure, Fantasy, Science Fiction]\n",
       "1                        [Adventure, Fantasy, Action]\n",
       "2                          [Action, Adventure, Crime]\n",
       "3                    [Action, Crime, Drama, Thriller]\n",
       "4                [Action, Adventure, Science Fiction]\n",
       "                            ...                      \n",
       "4798                        [Action, Crime, Thriller]\n",
       "4799                                [Comedy, Romance]\n",
       "4800               [Comedy, Drama, Romance, TV Movie]\n",
       "4801                                               []\n",
       "4802                                    [Documentary]\n",
       "Name: genres, Length: 4739, dtype: object"
      ]
     },
     "execution_count": 106,
     "metadata": {},
     "output_type": "execute_result"
    }
   ],
   "source": [
    "df['genres']"
   ]
  },
  {
   "cell_type": "code",
   "execution_count": 107,
   "id": "edd9a585-918a-411f-9f36-1376e27017c3",
   "metadata": {},
   "outputs": [],
   "source": [
    "df_filtered=df[df['genres'].str.len()>0]"
   ]
  },
  {
   "cell_type": "code",
   "execution_count": 108,
   "id": "deb377d1-33a2-4744-a0c5-5e2d898608c1",
   "metadata": {},
   "outputs": [],
   "source": [
    "all_genres=df_filtered['genres'].explode()"
   ]
  },
  {
   "cell_type": "code",
   "execution_count": 109,
   "id": "d18ce4c8-16e7-44e3-8337-2e36df878cf1",
   "metadata": {},
   "outputs": [],
   "source": [
    "genre_counts=all_genres.value_counts()"
   ]
  },
  {
   "cell_type": "code",
   "execution_count": 116,
   "id": "5f122571-61e5-4d69-9759-99ab5b28f180",
   "metadata": {},
   "outputs": [
    {
     "data": {
      "image/png": "[encoded data removed]",
      "text/plain": [
       "<Figure size 1000x600 with 1 Axes>"
      ]
     },
     "metadata": {},
     "output_type": "display_data"
    }
   ],
   "source": [
    "#Q2: What are the most filmed genres in this whole dataset?\n",
    "\n",
    "if not genre_counts.empty:\n",
    "    plt.figure(figsize=(10,6))\n",
    "    genre_counts.plot(kind='bar',color='green')\n",
    "    plt.title(\"Most Filmed Genres\",fontsize=15)\n",
    "    plt.xlabel(\"Genres\",fontsize=13)\n",
    "    plt.xticks(rotation=45)\n",
    "    plt.ylabel(\"Count\",fontsize=13)\n",
    "    plt.show()\n",
    "\n",
    "else:\n",
    "    print(\"No genres available to plot.\")"
   ]
  },
  {
   "cell_type": "code",
   "execution_count": 117,
   "id": "f5e65f3e-5c89-4142-97c4-d19be88dd8d0",
   "metadata": {},
   "outputs": [
    {
     "data": {
      "text/plain": [
       "count        4739\n",
       "unique       1172\n",
       "top       [Drama]\n",
       "freq          361\n",
       "Name: genres, dtype: object"
      ]
     },
     "execution_count": 117,
     "metadata": {},
     "output_type": "execute_result"
    }
   ],
   "source": [
    "df['genres'].describe()"
   ]
  },
  {
   "cell_type": "code",
   "execution_count": 118,
   "id": "898d0bce-9566-4330-8c19-11a8278bf01c",
   "metadata": {},
   "outputs": [
    {
     "data": {
      "text/plain": [
       "Text(0, 0.5, 'Revenue')"
      ]
     },
     "execution_count": 118,
     "metadata": {},
     "output_type": "execute_result"
    },
    {
     "data": {
      "image/png": "[encoded data removed]",
      "text/plain": [
       "<Figure size 640x480 with 1 Axes>"
      ]
     },
     "metadata": {},
     "output_type": "display_data"
    }
   ],
   "source": [
    "#Q3: Is there a correlation between a movie budget and its revenue?\n",
    "\n",
    "plt.scatter(df['budget'],df['revenue']);\n",
    "plt.title(\"Movie Budget Against its Revenue\");\n",
    "plt.xlabel(\"Budget\",fontsize=10)\n",
    "plt.ylabel(\"Revenue\",fontsize=10)"
   ]
  }
 ],
 "metadata": {
  "kernelspec": {
   "display_name": "Python [conda env:base] *",
   "language": "python",
   "name": "conda-base-py"
  },
  "language_info": {
   "codemirror_mode": {
    "name": "ipython",
    "version": 3
   },
   "file_extension": ".py",
   "mimetype": "text/x-python",
   "name": "python",
   "nbconvert_exporter": "python",
   "pygments_lexer": "ipython3",
   "version": "3.13.5"
  }
 },
 "nbformat": 4,
 "nbformat_minor": 5
}
